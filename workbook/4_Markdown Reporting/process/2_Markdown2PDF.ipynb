{
 "cells": [
  {
   "cell_type": "code",
   "execution_count": 5,
   "metadata": {},
   "outputs": [],
   "source": [
    "md_dir = \"../report/chapters\"\n",
    "output_dir = \"../report\"\n",
    "output_pdf = '../thesis.pdf'"
   ]
  },
  {
   "cell_type": "code",
   "execution_count": 6,
   "metadata": {},
   "outputs": [
    {
     "name": "stdout",
     "output_type": "stream",
     "text": [
      "PDF generated at: ../thesis.pdf\n"
     ]
    }
   ],
   "source": [
    "import os\n",
    "import pypandoc\n",
    "\n",
    "md_files = sorted([f for f in os.listdir(md_dir) if f.endswith('.md')])\n",
    "combined_md = \"\"\n",
    "\n",
    "for md_file in md_files:\n",
    "    with open(os.path.join(md_dir, md_file), \"r\", encoding=\"utf-8\") as f:\n",
    "        combined_md += \"\\\\newpage\\n\\n\" + f.read()\n",
    "\n",
    "combined_md = combined_md + \"\\n\\n\\\\newpage\\n\\n# References\\n\\n\"\n",
    "\n",
    "pypandoc.convert_text(\n",
    "    combined_md,\n",
    "    'pdf',\n",
    "    format='md',\n",
    "    outputfile=output_pdf,\n",
    "    cworkdir=md_dir,\n",
    "    extra_args=[\n",
    "        '--pdf-engine=pdflatex',\n",
    "        '--metadata-file=../metadata.yml',\n",
    "        '--bibliography=../references.bib',\n",
    "        '--citeproc',\n",
    "        '--pdf-engine-opt=--enable-write18',\n",
    "        '--pdf-engine-opt=-interaction=nonstopmode',\n",
    "    ]\n",
    ")\n",
    "\n",
    "print(f\"PDF generated at: {output_pdf}\")"
   ]
  }
 ],
 "metadata": {
  "kernelspec": {
   "display_name": "work",
   "language": "python",
   "name": "python3"
  },
  "language_info": {
   "codemirror_mode": {
    "name": "ipython",
    "version": 3
   },
   "file_extension": ".py",
   "mimetype": "text/x-python",
   "name": "python",
   "nbconvert_exporter": "python",
   "pygments_lexer": "ipython3",
   "version": "3.12.3"
  }
 },
 "nbformat": 4,
 "nbformat_minor": 2
}
