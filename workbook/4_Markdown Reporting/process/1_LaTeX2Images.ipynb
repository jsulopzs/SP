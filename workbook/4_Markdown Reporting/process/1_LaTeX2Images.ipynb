{
 "cells": [
  {
   "cell_type": "code",
   "execution_count": 1,
   "metadata": {},
   "outputs": [],
   "source": [
    "%reload_ext autoreload\n",
    "%autoreload 2"
   ]
  },
  {
   "cell_type": "code",
   "execution_count": 4,
   "metadata": {},
   "outputs": [],
   "source": [
    "path = 'src/dev/model_summary.tex'"
   ]
  },
  {
   "cell_type": "code",
   "execution_count": 5,
   "metadata": {},
   "outputs": [],
   "source": [
    "import utils"
   ]
  },
  {
   "cell_type": "code",
   "execution_count": 6,
   "metadata": {},
   "outputs": [
    {
     "name": "stdout",
     "output_type": "stream",
     "text": [
      "Adding document structure to src/dev/model_summary.tex\n",
      "This is pdfTeX, Version 3.141592653-2.6-1.40.26 (TeX Live 2024) (preloaded format=pdflatex)\n",
      " restricted \\write18 enabled.\n",
      "entering extended mode\n",
      "(./src/dev/model_summary.tex\n",
      "LaTeX2e <2023-11-01> patch level 1\n",
      "L3 programming layer <2024-02-20>\n",
      "(/usr/local/texlive/2024/texmf-dist/tex/latex/base/article.cls\n",
      "Document Class: article 2023/05/17 v1.4n Standard LaTeX document class\n",
      "(/usr/local/texlive/2024/texmf-dist/tex/latex/base/size10.clo))\n",
      "(/usr/local/texlive/2024/texmf-dist/tex/latex/tools/dcolumn.sty\n",
      "(/usr/local/texlive/2024/texmf-dist/tex/latex/tools/array.sty))\n",
      "(/usr/local/texlive/2024/texmf-dist/tex/latex/float/float.sty)\n",
      "(/usr/local/texlive/2024/texmf-dist/tex/latex/booktabs/booktabs.sty)\n",
      "(/usr/local/texlive/2024/texmf-dist/tex/latex/graphics/graphicx.sty\n",
      "(/usr/local/texlive/2024/texmf-dist/tex/latex/graphics/keyval.sty)\n",
      "(/usr/local/texlive/2024/texmf-dist/tex/latex/graphics/graphics.sty\n",
      "(/usr/local/texlive/2024/texmf-dist/tex/latex/graphics/trig.sty)\n",
      "(/usr/local/texlive/2024/texmf-dist/tex/latex/graphics-cfg/graphics.cfg)\n",
      "(/usr/local/texlive/2024/texmf-dist/tex/latex/graphics-def/pdftex.def)))\n",
      "(/usr/local/texlive/2024/texmf-dist/tex/latex/l3backend/l3backend-pdftex.def)\n",
      "No file model_summary.aux.\n",
      "(/usr/local/texlive/2024/texmf-dist/tex/context/base/mkii/supp-pdf.mkii\n",
      "[Loading MPS to PDF converter (version 2006.09.02).]\n",
      ") (/usr/local/texlive/2024/texmf-dist/tex/latex/epstopdf-pkg/epstopdf-base.sty\n",
      "(/usr/local/texlive/2024/texmf-dist/tex/latex/latexconfig/epstopdf-sys.cfg))\n",
      "[1{/usr/local/texlive/2024/texmf-var/fonts/map/pdftex/updmap/pdftex.map}]\n",
      "(src/dev/model_summary.aux)\n",
      "\n",
      "LaTeX Warning: Label(s) may have changed. Rerun to get cross-references right.\n",
      "\n",
      " )</usr/local/texlive/2024/texmf-dist/fonts/type1/public/amsfonts/cm/cmmi10.pfb\n",
      "></usr/local/texlive/2024/texmf-dist/fonts/type1/public/amsfonts/cm/cmr10.pfb><\n",
      "/usr/local/texlive/2024/texmf-dist/fonts/type1/public/amsfonts/cm/cmr7.pfb></us\n",
      "r/local/texlive/2024/texmf-dist/fonts/type1/public/amsfonts/cm/cmsy10.pfb></usr\n",
      "/local/texlive/2024/texmf-dist/fonts/type1/public/amsfonts/cm/cmsy7.pfb></usr/l\n",
      "ocal/texlive/2024/texmf-dist/fonts/type1/public/amsfonts/cm/cmti10.pfb>\n",
      "Output written on src/dev/model_summary.pdf (1 page, 64315 bytes).\n",
      "Transcript written on src/dev/model_summary.log.\n",
      "\n",
      "\n"
     ]
    },
    {
     "data": {
      "text/plain": [
       "'src/prod/model_summary.png'"
      ]
     },
     "execution_count": 6,
     "metadata": {},
     "output_type": "execute_result"
    }
   ],
   "source": [
    "utils.tex_to_image(path, 'src/prod/model_summary.png')"
   ]
  },
  {
   "cell_type": "code",
   "execution_count": 11,
   "metadata": {},
   "outputs": [
    {
     "name": "stderr",
     "output_type": "stream",
     "text": [
      "/Users/sota/Library/CloudStorage/Dropbox-datons/Training/2 Areas/Courses/3 Catalogue/SP/1 Materials/SP/workbook/4_Markdown Reporting/scripts/utils.py:76: SyntaxWarning: invalid escape sequence '\\e'\n",
      "  \"\"\"\n"
     ]
    },
    {
     "name": "stdout",
     "output_type": "stream",
     "text": [
      "Document structure already exists in src/dev/model_summary.tex\n",
      "This is pdfTeX, Version 3.141592653-2.6-1.40.26 (TeX Live 2024) (preloaded format=pdflatex)\n",
      " restricted \\write18 enabled.\n",
      "entering extended mode\n",
      "(./src/dev/model_summary.tex\n",
      "LaTeX2e <2023-11-01> patch level 1\n",
      "L3 programming layer <2024-02-20>\n",
      "(/usr/local/texlive/2024/texmf-dist/tex/latex/base/article.cls\n",
      "Document Class: article 2023/05/17 v1.4n Standard LaTeX document class\n",
      "(/usr/local/texlive/2024/texmf-dist/tex/latex/base/size10.clo))\n",
      "(/usr/local/texlive/2024/texmf-dist/tex/latex/tools/dcolumn.sty\n",
      "(/usr/local/texlive/2024/texmf-dist/tex/latex/tools/array.sty))\n",
      "(/usr/local/texlive/2024/texmf-dist/tex/latex/float/float.sty)\n",
      "(/usr/local/texlive/2024/texmf-dist/tex/latex/booktabs/booktabs.sty)\n",
      "(/usr/local/texlive/2024/texmf-dist/tex/latex/graphics/graphicx.sty\n",
      "(/usr/local/texlive/2024/texmf-dist/tex/latex/graphics/keyval.sty)\n",
      "(/usr/local/texlive/2024/texmf-dist/tex/latex/graphics/graphics.sty\n",
      "(/usr/local/texlive/2024/texmf-dist/tex/latex/graphics/trig.sty)\n",
      "(/usr/local/texlive/2024/texmf-dist/tex/latex/graphics-cfg/graphics.cfg)\n",
      "(/usr/local/texlive/2024/texmf-dist/tex/latex/graphics-def/pdftex.def)))\n",
      "(/usr/local/texlive/2024/texmf-dist/tex/latex/l3backend/l3backend-pdftex.def)\n",
      "No file model_summary.aux.\n",
      "(/usr/local/texlive/2024/texmf-dist/tex/context/base/mkii/supp-pdf.mkii\n",
      "[Loading MPS to PDF converter (version 2006.09.02).]\n",
      ") (/usr/local/texlive/2024/texmf-dist/tex/latex/epstopdf-pkg/epstopdf-base.sty\n",
      "(/usr/local/texlive/2024/texmf-dist/tex/latex/latexconfig/epstopdf-sys.cfg))\n",
      "[1{/usr/local/texlive/2024/texmf-var/fonts/map/pdftex/updmap/pdftex.map}]\n",
      "(src/dev/model_summary.aux)\n",
      "\n",
      "LaTeX Warning: Label(s) may have changed. Rerun to get cross-references right.\n",
      "\n",
      " )</usr/local/texlive/2024/texmf-dist/fonts/type1/public/amsfonts/cm/cmmi10.pfb\n",
      "></usr/local/texlive/2024/texmf-dist/fonts/type1/public/amsfonts/cm/cmr10.pfb><\n",
      "/usr/local/texlive/2024/texmf-dist/fonts/type1/public/amsfonts/cm/cmr7.pfb></us\n",
      "r/local/texlive/2024/texmf-dist/fonts/type1/public/amsfonts/cm/cmsy10.pfb></usr\n",
      "/local/texlive/2024/texmf-dist/fonts/type1/public/amsfonts/cm/cmsy7.pfb></usr/l\n",
      "ocal/texlive/2024/texmf-dist/fonts/type1/public/amsfonts/cm/cmti10.pfb>\n",
      "Output written on src/dev/model_summary.pdf (1 page, 64053 bytes).\n",
      "Transcript written on src/dev/model_summary.log.\n",
      "\n",
      "\n",
      "Converted: src/dev/model_summary.tex to src/prod/model_summary.png\n",
      "Document structure already exists in src/dev/additional_metrics.tex\n",
      "This is pdfTeX, Version 3.141592653-2.6-1.40.26 (TeX Live 2024) (preloaded format=pdflatex)\n",
      " restricted \\write18 enabled.\n",
      "entering extended mode\n",
      "(./src/dev/additional_metrics.tex\n",
      "LaTeX2e <2023-11-01> patch level 1\n",
      "L3 programming layer <2024-02-20>\n",
      "(/usr/local/texlive/2024/texmf-dist/tex/latex/base/article.cls\n",
      "Document Class: article 2023/05/17 v1.4n Standard LaTeX document class\n",
      "(/usr/local/texlive/2024/texmf-dist/tex/latex/base/size10.clo))\n",
      "(/usr/local/texlive/2024/texmf-dist/tex/latex/tools/dcolumn.sty\n",
      "(/usr/local/texlive/2024/texmf-dist/tex/latex/tools/array.sty))\n",
      "(/usr/local/texlive/2024/texmf-dist/tex/latex/float/float.sty)\n",
      "(/usr/local/texlive/2024/texmf-dist/tex/latex/booktabs/booktabs.sty)\n",
      "(/usr/local/texlive/2024/texmf-dist/tex/latex/graphics/graphicx.sty\n",
      "(/usr/local/texlive/2024/texmf-dist/tex/latex/graphics/keyval.sty)\n",
      "(/usr/local/texlive/2024/texmf-dist/tex/latex/graphics/graphics.sty\n",
      "(/usr/local/texlive/2024/texmf-dist/tex/latex/graphics/trig.sty)\n",
      "(/usr/local/texlive/2024/texmf-dist/tex/latex/graphics-cfg/graphics.cfg)\n",
      "(/usr/local/texlive/2024/texmf-dist/tex/latex/graphics-def/pdftex.def)))\n",
      "(/usr/local/texlive/2024/texmf-dist/tex/latex/l3backend/l3backend-pdftex.def)\n",
      "No file additional_metrics.aux.\n",
      "(/usr/local/texlive/2024/texmf-dist/tex/context/base/mkii/supp-pdf.mkii\n",
      "[Loading MPS to PDF converter (version 2006.09.02).]\n",
      ") (/usr/local/texlive/2024/texmf-dist/tex/latex/epstopdf-pkg/epstopdf-base.sty\n",
      "(/usr/local/texlive/2024/texmf-dist/tex/latex/latexconfig/epstopdf-sys.cfg))\n",
      "[1{/usr/local/texlive/2024/texmf-var/fonts/map/pdftex/updmap/pdftex.map}]\n",
      "(src/dev/additional_metrics.aux)\n",
      "\n",
      "LaTeX Warning: Label(s) may have changed. Rerun to get cross-references right.\n",
      "\n",
      " )</usr/local/texlive/2024/texmf-dist/fonts/type1/public/amsfonts/cm/cmmi10.pfb\n",
      "></usr/local/texlive/2024/texmf-dist/fonts/type1/public/amsfonts/cm/cmr10.pfb>\n",
      "Output written on src/dev/additional_metrics.pdf (1 page, 24314 bytes).\n",
      "Transcript written on src/dev/additional_metrics.log.\n",
      "\n",
      "\n",
      "Converted: src/dev/additional_metrics.tex to src/prod/additional_metrics.png\n",
      "Document structure already exists in src/dev/anova_comparison.tex\n",
      "This is pdfTeX, Version 3.141592653-2.6-1.40.26 (TeX Live 2024) (preloaded format=pdflatex)\n",
      " restricted \\write18 enabled.\n",
      "entering extended mode\n",
      "(./src/dev/anova_comparison.tex\n",
      "LaTeX2e <2023-11-01> patch level 1\n",
      "L3 programming layer <2024-02-20>\n",
      "(/usr/local/texlive/2024/texmf-dist/tex/latex/base/article.cls\n",
      "Document Class: article 2023/05/17 v1.4n Standard LaTeX document class\n",
      "(/usr/local/texlive/2024/texmf-dist/tex/latex/base/size10.clo))\n",
      "(/usr/local/texlive/2024/texmf-dist/tex/latex/tools/dcolumn.sty\n",
      "(/usr/local/texlive/2024/texmf-dist/tex/latex/tools/array.sty))\n",
      "(/usr/local/texlive/2024/texmf-dist/tex/latex/float/float.sty)\n",
      "(/usr/local/texlive/2024/texmf-dist/tex/latex/booktabs/booktabs.sty)\n",
      "(/usr/local/texlive/2024/texmf-dist/tex/latex/graphics/graphicx.sty\n",
      "(/usr/local/texlive/2024/texmf-dist/tex/latex/graphics/keyval.sty)\n",
      "(/usr/local/texlive/2024/texmf-dist/tex/latex/graphics/graphics.sty\n",
      "(/usr/local/texlive/2024/texmf-dist/tex/latex/graphics/trig.sty)\n",
      "(/usr/local/texlive/2024/texmf-dist/tex/latex/graphics-cfg/graphics.cfg)\n",
      "(/usr/local/texlive/2024/texmf-dist/tex/latex/graphics-def/pdftex.def)))\n",
      "(/usr/local/texlive/2024/texmf-dist/tex/latex/l3backend/l3backend-pdftex.def)\n",
      "No file anova_comparison.aux.\n",
      "(/usr/local/texlive/2024/texmf-dist/tex/context/base/mkii/supp-pdf.mkii\n",
      "[Loading MPS to PDF converter (version 2006.09.02).]\n",
      ") (/usr/local/texlive/2024/texmf-dist/tex/latex/epstopdf-pkg/epstopdf-base.sty\n",
      "(/usr/local/texlive/2024/texmf-dist/tex/latex/latexconfig/epstopdf-sys.cfg))\n",
      "(/usr/local/texlive/2024/texmf-dist/tex/latex/base/omlcmr.fd) [1{/usr/local/tex\n",
      "live/2024/texmf-var/fonts/map/pdftex/updmap/pdftex.map}]\n",
      "(src/dev/anova_comparison.aux)\n",
      "\n",
      "LaTeX Warning: Label(s) may have changed. Rerun to get cross-references right.\n",
      "\n",
      " )</usr/local/texlive/2024/texmf-dist/fonts/type1/public/amsfonts/cm/cmmi10.pfb\n",
      "></usr/local/texlive/2024/texmf-dist/fonts/type1/public/amsfonts/cm/cmr10.pfb>\n",
      "Output written on src/dev/anova_comparison.pdf (1 page, 24111 bytes).\n",
      "Transcript written on src/dev/anova_comparison.log.\n",
      "\n",
      "\n",
      "Converted: src/dev/anova_comparison.tex to src/prod/anova_comparison.png\n"
     ]
    }
   ],
   "source": [
    "from utils import convert_all_tex_to_images\n",
    "\n",
    "input_folder = 'src/dev'\n",
    "output_folder = 'src/prod'\n",
    "\n",
    "convert_all_tex_to_images(input_folder, output_folder)"
   ]
  }
 ],
 "metadata": {
  "kernelspec": {
   "display_name": "work",
   "language": "python",
   "name": "python3"
  },
  "language_info": {
   "codemirror_mode": {
    "name": "ipython",
    "version": 3
   },
   "file_extension": ".py",
   "mimetype": "text/x-python",
   "name": "python",
   "nbconvert_exporter": "python",
   "pygments_lexer": "ipython3",
   "version": "3.12.3"
  }
 },
 "nbformat": 4,
 "nbformat_minor": 2
}
